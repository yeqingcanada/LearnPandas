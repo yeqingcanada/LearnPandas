{
 "cells": [
  {
   "cell_type": "code",
   "execution_count": 5,
   "id": "c9e80589",
   "metadata": {},
   "outputs": [],
   "source": [
    "import pandas as pd\n",
    "# https://www.youtube.com/watch?v=ZyhVh-qRZPA&list=PL-osiE80TeTsWmV9i9c58mdDCSskIFdDS"
   ]
  },
  {
   "cell_type": "code",
   "execution_count": 9,
   "id": "c558e40f",
   "metadata": {},
   "outputs": [
    {
     "data": {
      "text/plain": [
       "0        Yes\n",
       "1         No\n",
       "2        Yes\n",
       "3         No\n",
       "4        Yes\n",
       "        ... \n",
       "88878    Yes\n",
       "88879     No\n",
       "88880     No\n",
       "88881     No\n",
       "88882    Yes\n",
       "Name: Hobbyist, Length: 88883, dtype: object"
      ]
     },
     "execution_count": 9,
     "metadata": {},
     "output_type": "execute_result"
    }
   ],
   "source": [
    "# 1. getting started\n",
    "\n",
    "df = pd.read_csv('data/survey_results_public.csv')\n",
    "schema_df = pd.read_csv('data/survey_results_schema.csv')\n",
    "\n",
    "# # shape返回（行数，列数）\n",
    "df.shape\n",
    "# # info（）返回每列信息：列名，非空行数，数据结构\n",
    "# df.info()\n",
    "# # columns 返回列名\n",
    "# df.columns\n",
    "# pd.set_option('display.max_columns', 85)\n",
    "# pd.set_option('display.max_rows', 85)\n",
    "# schema_df.head(10)\n",
    "df['Hobbyist']"
   ]
  },
  {
   "cell_type": "code",
   "execution_count": 13,
   "id": "1c243972",
   "metadata": {},
   "outputs": [
    {
     "data": {
      "text/html": [
       "<div>\n",
       "<style scoped>\n",
       "    .dataframe tbody tr th:only-of-type {\n",
       "        vertical-align: middle;\n",
       "    }\n",
       "\n",
       "    .dataframe tbody tr th {\n",
       "        vertical-align: top;\n",
       "    }\n",
       "\n",
       "    .dataframe thead th {\n",
       "        text-align: right;\n",
       "    }\n",
       "</style>\n",
       "<table border=\"1\" class=\"dataframe\">\n",
       "  <thead>\n",
       "    <tr style=\"text-align: right;\">\n",
       "      <th></th>\n",
       "      <th>first</th>\n",
       "      <th>last</th>\n",
       "      <th>email</th>\n",
       "    </tr>\n",
       "  </thead>\n",
       "  <tbody>\n",
       "    <tr>\n",
       "      <th>0</th>\n",
       "      <td>Corey</td>\n",
       "      <td>Schafer</td>\n",
       "      <td>CoreyMSchafer@gmail.com</td>\n",
       "    </tr>\n",
       "    <tr>\n",
       "      <th>1</th>\n",
       "      <td>Jane</td>\n",
       "      <td>Doe</td>\n",
       "      <td>JaneDoe@email.com</td>\n",
       "    </tr>\n",
       "    <tr>\n",
       "      <th>2</th>\n",
       "      <td>John</td>\n",
       "      <td>Doe</td>\n",
       "      <td>JohnDeo@email.com</td>\n",
       "    </tr>\n",
       "    <tr>\n",
       "      <th>3</th>\n",
       "      <td>Adam</td>\n",
       "      <td>Doe</td>\n",
       "      <td>A@gmail.com</td>\n",
       "    </tr>\n",
       "  </tbody>\n",
       "</table>\n",
       "</div>"
      ],
      "text/plain": [
       "   first     last                    email\n",
       "0  Corey  Schafer  CoreyMSchafer@gmail.com\n",
       "1   Jane      Doe        JaneDoe@email.com\n",
       "2   John      Doe        JohnDeo@email.com\n",
       "3   Adam      Doe              A@gmail.com"
      ]
     },
     "execution_count": 13,
     "metadata": {},
     "output_type": "execute_result"
    }
   ],
   "source": [
    "# 2. dataframe and series basic\n",
    "\n",
    "people = {\n",
    "    \"first\": [\"Corey\", 'Jane', 'John', 'Adam'],\n",
    "    \"last\": [\"Schafer\", 'Doe', 'Doe', 'Doe'],\n",
    "    \"email\":[\"CoreyMSchafer@gmail.com\", 'JaneDoe@email.com', 'JohnDeo@email.com', 'A@gmail.com'],\n",
    "#     'age': [1,2,3],\n",
    "#     'income':[1.2,2.2,3.3]\n",
    "}\n",
    "df = pd.DataFrame(people)\n",
    "df\n",
    "\n",
    "# df['email']                        # 结果是一个series，包含了email这一列的所有item\n",
    "# type(df['email'])                  # pandas.core.series.Series\n",
    "# df[['email', 'last']]              # 只包含这两列\n",
    "# df.columns\n",
    "# df.iloc[[0,1],[0,1]]              # 第一个参数是行，第二个列，第一个array是指取index是0-1的行，第二个array是指取index0-1的列\n",
    "# df.loc[[0,1],['email', 'last']]   # loc: label, iloc:location"
   ]
  },
  {
   "cell_type": "code",
   "execution_count": 12,
   "id": "c44aef52",
   "metadata": {},
   "outputs": [
    {
     "data": {
      "text/html": [
       "<div>\n",
       "<style scoped>\n",
       "    .dataframe tbody tr th:only-of-type {\n",
       "        vertical-align: middle;\n",
       "    }\n",
       "\n",
       "    .dataframe tbody tr th {\n",
       "        vertical-align: top;\n",
       "    }\n",
       "\n",
       "    .dataframe thead th {\n",
       "        text-align: right;\n",
       "    }\n",
       "</style>\n",
       "<table border=\"1\" class=\"dataframe\">\n",
       "  <thead>\n",
       "    <tr style=\"text-align: right;\">\n",
       "      <th></th>\n",
       "      <th>Hobbyist</th>\n",
       "      <th>OpenSourcer</th>\n",
       "      <th>OpenSource</th>\n",
       "      <th>Employment</th>\n",
       "    </tr>\n",
       "  </thead>\n",
       "  <tbody>\n",
       "    <tr>\n",
       "      <th>0</th>\n",
       "      <td>Yes</td>\n",
       "      <td>Never</td>\n",
       "      <td>The quality of OSS and closed source software ...</td>\n",
       "      <td>Not employed, and not looking for work</td>\n",
       "    </tr>\n",
       "    <tr>\n",
       "      <th>1</th>\n",
       "      <td>No</td>\n",
       "      <td>Less than once per year</td>\n",
       "      <td>The quality of OSS and closed source software ...</td>\n",
       "      <td>Not employed, but looking for work</td>\n",
       "    </tr>\n",
       "    <tr>\n",
       "      <th>2</th>\n",
       "      <td>Yes</td>\n",
       "      <td>Never</td>\n",
       "      <td>The quality of OSS and closed source software ...</td>\n",
       "      <td>Employed full-time</td>\n",
       "    </tr>\n",
       "  </tbody>\n",
       "</table>\n",
       "</div>"
      ],
      "text/plain": [
       "  Hobbyist              OpenSourcer  \\\n",
       "0      Yes                    Never   \n",
       "1       No  Less than once per year   \n",
       "2      Yes                    Never   \n",
       "\n",
       "                                          OpenSource  \\\n",
       "0  The quality of OSS and closed source software ...   \n",
       "1  The quality of OSS and closed source software ...   \n",
       "2  The quality of OSS and closed source software ...   \n",
       "\n",
       "                               Employment  \n",
       "0  Not employed, and not looking for work  \n",
       "1      Not employed, but looking for work  \n",
       "2                      Employed full-time  "
      ]
     },
     "execution_count": 12,
     "metadata": {},
     "output_type": "execute_result"
    }
   ],
   "source": [
    "# 2. dataframe and series basic\n",
    "# data is from 'data/survey_results_public.csv'\n",
    "\n",
    "df['Hobbyist'].value_counts()                 # 形成一个series，index是Hobbyist的不同值，内容是这些值的count结果\n",
    "                                              # 一般series，index（数字）以0开始，内容是值，类似list\n",
    "df.loc[0:2,'Hobbyist':'Employment']           # 取行index0-2，列从'Hobbyist'到'Employment'"
   ]
  },
  {
   "cell_type": "code",
   "execution_count": 16,
   "id": "e66f178a",
   "metadata": {},
   "outputs": [
    {
     "data": {
      "text/plain": [
       "Index(['CoreyMSchafer@gmail.com', 'JaneDoe@email.com', 'JohnDeo@email.com',\n",
       "       'A@gmail.com'],\n",
       "      dtype='object', name='email')"
      ]
     },
     "execution_count": 16,
     "metadata": {},
     "output_type": "execute_result"
    }
   ],
   "source": [
    "# 3. index\n",
    "# data is from people\n",
    "\n",
    "df.set_index('email')                          # 不改变原有dataframe，index依然是0-2\n",
    "df.set_index('email', inplace=True)            # 确实改变原dataframe，index变成email\n",
    "df.index\n",
    "df.loc['CoreyMSchafer@gmail.com']              # 有了index后，可以利用其定位，没有index之前，只能利用数字定位\n",
    "df.reset_index(inplace=True)                   # index设置回0-2，如果重复执行这句，会多出一列‘index’，\n",
    "                                               # 第二次重复，会再多出一列‘level_0’，他们的内容都是0-2\n",
    "df"
   ]
  },
  {
   "cell_type": "code",
   "execution_count": null,
   "id": "609fb3e8",
   "metadata": {},
   "outputs": [],
   "source": [
    "# 3. index\n",
    "# data is from data/survey_results_public.csv & data/survey_results_schema.csv\n",
    "\n",
    "# ----------------------------------------------------\n",
    "df = pd.read_csv('data/survey_results_public.csv', index_col='Respondent')  # 读入时直接将Respondent设置为index\n",
    "df.head()\n",
    "# ----------------------------------------------------\n",
    "schema_df = pd.read_csv('data/survey_results_schema.csv', index_col='Column')\n",
    "schema_df.loc['MgrIdiot', 'QuestionText']           # 第一个参数是行，取‘Column’（这列的名字）这列值为‘MgrIdiot’的行\n",
    "                                                    # 第二个参数是列，再取‘QuestionText’（这是列的名字）这列\n",
    "schema_df.sort_index(ascending=False)"
   ]
  },
  {
   "cell_type": "code",
   "execution_count": null,
   "id": "6a28e607",
   "metadata": {},
   "outputs": [],
   "source": [
    "# 4. filtering\n",
    "# data is from people\n",
    "\n",
    "filt = df['last'] == 'Doe'\n",
    "df[filt]                            # 传入series of boolean，返回true的行\n",
    "df.loc[filt]                        # 与上一行效果一样，传入series of boolean，返回true的行\n",
    "df.loc[filt, ['email', 'last']]     # 可以定位某行某列         "
   ]
  },
  {
   "cell_type": "code",
   "execution_count": null,
   "id": "e3be7c22",
   "metadata": {},
   "outputs": [],
   "source": [
    "# 4. filtering\n",
    "# data is from data/survey_results_public.csv\n",
    "\n",
    "# ----------------------------------------------------\n",
    "counties = ['United States', 'India', 'United Kingdom', 'Germany', 'Canada']\n",
    "filt = df['Country'].isin(counties)\n",
    "df.loc[filt, 'Country']\n",
    "# ----------------------------------------------------\n",
    "filt = df['LanguageWorkedWith'].str.contains('Python', na=False)       # na等于false意味着不处理na这种情况，是为了避免na报错\n",
    "df.loc[filt, 'LanguageWorkedWith']\n"
   ]
  },
  {
   "cell_type": "code",
   "execution_count": null,
   "id": "b9620b1b",
   "metadata": {},
   "outputs": [],
   "source": [
    "# 5. Updating Rows and Columns\n",
    "# data is from people\n",
    "\n",
    "# ----------------------------------------------------\n",
    "# update columns\n",
    "df.columns           # ['first', 'last', 'email', 'age', 'income']\n",
    "df.columns = ['first_name', 'last_name', 'email', 'age', 'income']             # change the column name in df\n",
    "df.columns = [x.upper() for x in df.columns]\n",
    "df.columns = df.columns.str.replace(' ','_')\n",
    "df.columns = [x.lower() for x in df.columns]\n",
    "# 改变列的名字\n",
    "df = df.rename(columns={'first_name': 'first', 'last_name': 'last'})           # 需要再写一遍df=df...才会改变\n",
    "df.rename(columns={'first_name': 'first', 'last_name': 'last'}, inplace=True)  # 或者inplace为true\n",
    "# ----------------------------------------------------\n",
    "# update rows\n",
    "df.loc[2] = ['John', 'Smith', 'JohnSmith@email.com']           # 更新index是2的这行的信息\n",
    "df.loc[2, ['last', 'email']] = ['Deo', 'JohnDeo@email.com']    # 可以只更新两列\n",
    "# ----------------------------------------------------\n",
    "filt = (df['email'] =='JohnDeo@email.com')\n",
    "###### df[filt]['last'] = 'Smith'                               # 这样写是错误的，这是一个copy temp，不能改变原有df            \n",
    "df.loc[filt, 'last'] = 'Smith'                                  # 这样写才可以确实改变df\n",
    "# ----------------------------------------------------\n",
    "df['email'] = df['email'].str.lower()\n",
    "# ----------------------------------------------------\n",
    "# apply\n",
    "# apply在series上，作用在series的每个值上；apply在dataframe上，作用在每个series上\n",
    "df['email'].apply(len)                           # 返回每个email的长度\n",
    "df.apply(len)                                    # 返回每个series的长度，first-3，last-3， email-3\n",
    "df.apply(len, axis='columns')                    # rows 是 default 返回每列有几行， columns返回每一行有几列0-3，1-3，2-3         \n",
    "def update_email(email):\n",
    "    return email.upper()\n",
    "df['email'] = df['email'].apply(update_email)\n",
    "df['email'] = df['email'].apply(lambda x: x.lower())\n",
    "df.apply(pd.Series.min)                           # 返回字母表顺序最小的一个值，first-Corey,last-Doe,email-core...\n",
    "df.apply(lambd x: x.min())                        # 同above的结果\n",
    "# ----------------------------------------------------\n",
    "# applymap\n",
    "# 只作用在dataframe上，改变每一个individual的值\n",
    "df.applymap(len)\n",
    "df.applymap(str.lower)\n",
    "#   带括号 () 的函数实际上称为此函数 , 而不带括号 () 的函数是此函数的对象, 可用作参数传输\n",
    "# ----------------------------------------------------\n",
    "# map\n",
    "# 作用在series上，substituting each value in a series with another value\n",
    "df['first'].map({'Corey':'Chris', 'Jane':'Mary'})                       # 没被指定的John会变成 NaN，为了避免这个问题，应该使用replace\n",
    "# ----------------------------------------------------\n",
    "# replace\n",
    "df['first'] = df['first'].replace({'Corey':'Chris', 'Jane':'Mary'})     # 这个方法没有replace为true的设置，只能用等于改变原df"
   ]
  },
  {
   "cell_type": "code",
   "execution_count": null,
   "id": "589502ee",
   "metadata": {},
   "outputs": [],
   "source": [
    "# 6. Add/Remove Rows and Columns\n",
    "# data is from people\n",
    "\n",
    "# ----------------------------------------------------\n",
    "# add new column\n",
    "df['full_name'] = df['first'] + ' ' + df['last']\n",
    "# delete columns\n",
    "df.drop(columns=['first', 'last'], inplace=True)\n",
    "# 写等式效果同inplace=True\n",
    "df = df.drop(columns=['first', 'last'])\n",
    "# splite full_name column into two columns, 如果不加expand为true，则full_name会变为一个二元数组，加了这个，则df会新增两列\n",
    "df[['first', 'last']]=df['full_name'].str.split(' ', expand=True)\n",
    "# ----------------------------------------------------\n",
    "# 添加新的一行。如果不加这句ignore_index=True，会报错，因为这个df没有index\n",
    "df.append({'first':'Tony'}, ignore_index=True)\n",
    "# 将一个df append到另一个df上\n",
    "people = {\n",
    "    \"first\": [\"Tony\", 'Steven'],\n",
    "    \"last\": [\"Stark\", 'Rogers'],\n",
    "    \"email\":[\"IronMan@gmail.com\", 'Cap@email.com']\n",
    "}\n",
    "df2 = pd.DataFrame(people)\n",
    "df.append(df2,ignore_index=True, sort=False)\n",
    "# ----------------------------------------------------\n",
    "# delete row\n",
    "df.drop(index=4)\n",
    "# delete last等于Doe的行\n",
    "filt = df['last'] == 'Doe'\n",
    "df.drop(index=df[filt].index)\n",
    "# ----------------------------------------------------\n",
    "# 把最后一列5列的后买你\n",
    "cols = list(df.columns)\n",
    "df = df[cols[0:4]+ [cols[-1]]+ cols[4:12]]"
   ]
  },
  {
   "cell_type": "code",
   "execution_count": null,
   "id": "5a48ea9e",
   "metadata": {},
   "outputs": [],
   "source": [
    "# 7. Sorting Data\n",
    "# data is from people\n",
    "\n",
    "# ----------------------------------------------------\n",
    "# 先按last的降序排列，在此基础上，按first的升序排列\n",
    "df.sort_values(by=['last','first'], ascending=[False,True], inplace=True)\n",
    "# 在上面的基础上，想要恢复原状。上面一句结束以后，index是乱序的。\n",
    "df.sort_index()\n",
    "# 只是想简单的sort一列，返回一个serias\n",
    "df['last'].sort_values()\n",
    "# ----------------------------------------------------\n",
    "# data is from data/survey_results_public.csv\n",
    "# 针对一个列，返回最大的10个值。两种写法都可以，第一种返回一个serias，第二种返回10行原始df\n",
    "df['ConvertedComp'].nlargest(10)\n",
    "df.nlargest(10, 'ConvertedComp')"
   ]
  },
  {
   "cell_type": "code",
   "execution_count": null,
   "id": "cf97c048",
   "metadata": {},
   "outputs": [],
   "source": []
  }
 ],
 "metadata": {
  "kernelspec": {
   "display_name": "Python 3 (ipykernel)",
   "language": "python",
   "name": "python3"
  },
  "language_info": {
   "codemirror_mode": {
    "name": "ipython",
    "version": 3
   },
   "file_extension": ".py",
   "mimetype": "text/x-python",
   "name": "python",
   "nbconvert_exporter": "python",
   "pygments_lexer": "ipython3",
   "version": "3.9.12"
  },
  "vscode": {
   "interpreter": {
    "hash": "7b9bf3d753fefe854781e52229fcc2b6d37fd5cec0eed166290fc2ac2cd3389d"
   }
  }
 },
 "nbformat": 4,
 "nbformat_minor": 5
}
